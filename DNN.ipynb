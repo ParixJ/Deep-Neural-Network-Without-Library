{
 "cells": [
  {
   "cell_type": "code",
   "execution_count": 33,
   "metadata": {},
   "outputs": [
    {
     "data": {
      "text/plain": [
       "[array([0.03717647]),\n",
       " array([0.95275179]),\n",
       " array([0.97884798]),\n",
       " array([0.03990536])]"
      ]
     },
     "execution_count": 33,
     "metadata": {},
     "output_type": "execute_result"
    }
   ],
   "source": [
    "import numpy as np\n",
    "\n",
    "\n",
    "def DNN(X,y,epoch,lr):\n",
    "  np.random.seed(142)\n",
    "  numberOfLayer = 1\n",
    "  w_input_hidden = np.random.uniform(size=[len(X[0]),3])\n",
    "  w_hidden = np.random.uniform(size=[5,3,3])\n",
    "  w_hidden_output = np.random.uniform(size=[3,1])\n",
    "\n",
    "  def relu(x):\n",
    "    return np.maximum(0, x)\n",
    "  def der_relu(x):\n",
    "      return np.where(x > 0, 1, 0)\n",
    "  \n",
    "  def sigmoid(x):\n",
    "    return 1 / (1 + np.exp(-x))\n",
    "  def der_sigmoid(x):\n",
    "    return sigmoid(x) * (1- sigmoid(x))\n",
    "  \n",
    "  output = []\n",
    "  for j in range(len(X)):\n",
    "    for i in range(epoch):\n",
    "\n",
    "      summation_array = []\n",
    "\n",
    "      z = np.dot(X[j],w_input_hidden)\n",
    "      a1 = sigmoid(z)\n",
    "      summation_array.append(z)\n",
    "\n",
    "      for i in range(numberOfLayer):\n",
    "        z = np.dot(a1,w_hidden[i])\n",
    "        a1 = sigmoid(z)\n",
    "        summation_array.append(z)\n",
    "\n",
    "      z = np.dot(a1,w_hidden_output)\n",
    "      a3 = sigmoid(z)\n",
    "\n",
    "      error_output = y[j] - a3\n",
    "      delta_output = error_output * der_sigmoid(a3)\n",
    "\n",
    "      delta_hidden = []\n",
    "      for i in range(numberOfLayer-1,-1,-1):\n",
    "          if i==numberOfLayer-1:\n",
    "              error_hidden = delta_output.dot(w_hidden_output.T)\n",
    "              delta_hidden.append(error_hidden * der_sigmoid(summation_array[i]))\n",
    "\n",
    "          else : \n",
    "              error_hidden = delta_hidden[-1].dot(w_hidden[i+1])\n",
    "              delta_hidden.append(error_hidden * der_sigmoid(summation_array[i]))\n",
    "      error_hidden = delta_hidden[-1].dot(w_hidden[0].T)\n",
    "      delta_input_hidden = error_hidden*der_sigmoid(summation_array[0])\n",
    "\n",
    "      w_input_hidden += delta_input_hidden * lr\n",
    "\n",
    "      for i in range(numberOfLayer-1,-1,-1):\n",
    "        w_hidden[i] += delta_hidden[i] * lr\n",
    "\n",
    "      w_hidden_output += delta_output * lr\n",
    "    output.append(a3)\n",
    "  \n",
    "  return output\n",
    "\n",
    "\n",
    "X = np.array([[0,0],[1,0],[0,1],[1,1]])\n",
    "y = [0,1,1,0]\n",
    "\n",
    "pred = DNN(X,y,epoch=100,lr=0.5)\n",
    "pred"
   ]
  },
  {
   "cell_type": "code",
   "execution_count": 34,
   "metadata": {},
   "outputs": [],
   "source": [
    "from sklearn.datasets import load_digits\n",
    "from sklearn.model_selection import train_test_split\n",
    "X,y = load_digits().data,[1 if i == 3 else 0 for i in load_digits().target]\n",
    "xtrain,xtest,ytrain,ytest = train_test_split(X,y,test_size=0.2)"
   ]
  },
  {
   "cell_type": "code",
   "execution_count": 28,
   "metadata": {},
   "outputs": [],
   "source": [
    "pred = DNN(xtrain,ytrain,epoch=200,lr=0.3)"
   ]
  }
 ],
 "metadata": {
  "kernelspec": {
   "display_name": "base",
   "language": "python",
   "name": "python3"
  },
  "language_info": {
   "codemirror_mode": {
    "name": "ipython",
    "version": 3
   },
   "file_extension": ".py",
   "mimetype": "text/x-python",
   "name": "python",
   "nbconvert_exporter": "python",
   "pygments_lexer": "ipython3",
   "version": "3.12.4"
  }
 },
 "nbformat": 4,
 "nbformat_minor": 2
}
